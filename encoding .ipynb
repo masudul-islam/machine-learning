{
 "cells": [
  {
   "cell_type": "code",
   "execution_count": null,
   "id": "a9e96725",
   "metadata": {},
   "outputs": [],
   "source": [
    "df.area.unique()\n",
    "array['Stockholm', 'Kristianstad', 'Uppsala']"
   ]
  },
  {
   "cell_type": "code",
   "execution_count": null,
   "id": "4e2380f1",
   "metadata": {},
   "outputs": [],
   "source": [
    "df.area = df.area.replace(['Stockholm', 'Kristianstad', 'Uppsala']), [3,2,1]\n",
    "df.area.head()\n"
   ]
  },
  {
   "cell_type": "code",
   "execution_count": null,
   "id": "03285d4f",
   "metadata": {},
   "outputs": [],
   "source": [
    "#label encoding \n"
   ]
  },
  {
   "cell_type": "code",
   "execution_count": null,
   "id": "0bee2dd7",
   "metadata": {},
   "outputs": [],
   "source": [
    "from sklearn.preprocessing import LabelEncoder"
   ]
  },
  {
   "cell_type": "code",
   "execution_count": null,
   "id": "77a44224",
   "metadata": {},
   "outputs": [],
   "source": [
    "label = LabelEncoder \n",
    "df.area = label.fit_transfor(df['area'])"
   ]
  },
  {
   "cell_type": "code",
   "execution_count": null,
   "id": "d7392278",
   "metadata": {},
   "outputs": [],
   "source": [
    "for column in df.columns:\n",
    "    if df[column].dtype == np.number:\n",
    "    continue\n",
    "    df[column] = LabelEncoder().fit_transform([column])"
   ]
  },
  {
   "cell_type": "code",
   "execution_count": null,
   "id": "e9f07520",
   "metadata": {},
   "outputs": [],
   "source": [
    "#one hot encoding\n",
    "dummy_variabe = pd.get_dummies(df['Area'], drop_first = True)"
   ]
  },
  {
   "cell_type": "code",
   "execution_count": null,
   "id": "8301feb5",
   "metadata": {},
   "outputs": [],
   "source": [
    "dummy_variabe.head()"
   ]
  },
  {
   "cell_type": "code",
   "execution_count": null,
   "id": "26826ffe",
   "metadata": {},
   "outputs": [],
   "source": [
    "new_df = df.drop('Area', axis = 1)"
   ]
  },
  {
   "cell_type": "code",
   "execution_count": null,
   "id": "d4fc08a6",
   "metadata": {},
   "outputs": [],
   "source": [
    "new_df.head()"
   ]
  },
  {
   "cell_type": "code",
   "execution_count": null,
   "id": "5feecfdd",
   "metadata": {},
   "outputs": [],
   "source": [
    "df = pd.concat([new_df, dummy_variable], axis = 1)"
   ]
  },
  {
   "cell_type": "code",
   "execution_count": null,
   "id": "e661068c",
   "metadata": {},
   "outputs": [],
   "source": [
    "df.head()"
   ]
  },
  {
   "cell_type": "code",
   "execution_count": null,
   "id": "46505fdd",
   "metadata": {},
   "outputs": [],
   "source": [
    "# ordinal encoding\n",
    "from sklearn.preprocessing import OrdianlEncoder"
   ]
  },
  {
   "cell_type": "code",
   "execution_count": null,
   "id": "64543fda",
   "metadata": {},
   "outputs": [],
   "source": [
    "df.Area.unique()"
   ]
  },
  {
   "cell_type": "code",
   "execution_count": null,
   "id": "8da50f92",
   "metadata": {},
   "outputs": [],
   "source": [
    "cityList = ['Stockholm', 'Kristianstad', 'Uppsala']"
   ]
  },
  {
   "cell_type": "code",
   "execution_count": null,
   "id": "73586918",
   "metadata": {},
   "outputs": [],
   "source": [
    "ordinal = OrdinalEncoder(categories=[city_list])"
   ]
  },
  {
   "cell_type": "code",
   "execution_count": null,
   "id": "2275df38",
   "metadata": {},
   "outputs": [],
   "source": [
    "encodedValue = ordinal.fit_transform(df[['Area']) # number of sample and number of feature "
   ]
  },
  {
   "cell_type": "code",
   "execution_count": null,
   "id": "37c672ab",
   "metadata": {},
   "outputs": [],
   "source": [
    "newArea = pd.DataFrame(encodedValue, columns = ['Area'])"
   ]
  },
  {
   "cell_type": "code",
   "execution_count": null,
   "id": "a361ad45",
   "metadata": {},
   "outputs": [],
   "source": [
    "# hash enconding \n",
    "import category_encoders as ce \n",
    "encoders = ce.HashingEncoder(cols='Area'n_components=3)"
   ]
  },
  {
   "cell_type": "code",
   "execution_count": null,
   "id": "272fd6a6",
   "metadata": {},
   "outputs": [],
   "source": [
    "encoders.fit_transforms(df)"
   ]
  },
  {
   "cell_type": "code",
   "execution_count": null,
   "id": "16c2fabf",
   "metadata": {},
   "outputs": [],
   "source": []
  },
  {
   "cell_type": "code",
   "execution_count": null,
   "id": "7dc80009",
   "metadata": {},
   "outputs": [],
   "source": []
  },
  {
   "cell_type": "code",
   "execution_count": null,
   "id": "4a442a78",
   "metadata": {},
   "outputs": [],
   "source": []
  }
 ],
 "metadata": {
  "kernelspec": {
   "display_name": "Python 3 (ipykernel)",
   "language": "python",
   "name": "python3"
  },
  "language_info": {
   "codemirror_mode": {
    "name": "ipython",
    "version": 3
   },
   "file_extension": ".py",
   "mimetype": "text/x-python",
   "name": "python",
   "nbconvert_exporter": "python",
   "pygments_lexer": "ipython3",
   "version": "3.9.12"
  }
 },
 "nbformat": 4,
 "nbformat_minor": 5
}
