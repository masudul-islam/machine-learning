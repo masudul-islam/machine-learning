{
 "cells": [
  {
   "cell_type": "markdown",
   "id": "e00b903d",
   "metadata": {},
   "source": [
    "# saving model using pickle "
   ]
  },
  {
   "cell_type": "code",
   "execution_count": 8,
   "id": "e9cf4883",
   "metadata": {},
   "outputs": [],
   "source": [
    "import pickle as pk\n",
    "\n",
    "with open('mymodel', 'rb') as file:\n",
    "  rf = pk.load(file)"
   ]
  },
  {
   "cell_type": "code",
   "execution_count": 14,
   "id": "1d29cd0b",
   "metadata": {},
   "outputs": [],
   "source": [
    "pk.dump(rf, open('mynewmodel', 'wb'))"
   ]
  },
  {
   "cell_type": "code",
   "execution_count": 12,
   "id": "48606712",
   "metadata": {},
   "outputs": [
    {
     "data": {
      "text/plain": [
       "'/Users/masudulislam/Desktop/ML Project '"
      ]
     },
     "execution_count": 12,
     "metadata": {},
     "output_type": "execute_result"
    }
   ],
   "source": [
    "import os # to view the working dir\n",
    "os.getcwd()"
   ]
  },
  {
   "cell_type": "code",
   "execution_count": 17,
   "id": "caf06dd5",
   "metadata": {},
   "outputs": [],
   "source": [
    "model = pk.load(open('mynewmodel', 'rb'))"
   ]
  },
  {
   "cell_type": "markdown",
   "id": "839ff957",
   "metadata": {},
   "source": [
    "# saving model using joblib"
   ]
  },
  {
   "cell_type": "code",
   "execution_count": 20,
   "id": "b0decd1c",
   "metadata": {},
   "outputs": [
    {
     "data": {
      "text/plain": [
       "['joblibmymodel']"
      ]
     },
     "execution_count": 20,
     "metadata": {},
     "output_type": "execute_result"
    }
   ],
   "source": [
    "import joblib as jbl\n",
    "jbl.dump(rf, 'joblibmymodel')"
   ]
  },
  {
   "cell_type": "code",
   "execution_count": 21,
   "id": "b727418d",
   "metadata": {},
   "outputs": [],
   "source": [
    "model3 = jbl.load('mymodel3')"
   ]
  },
  {
   "cell_type": "code",
   "execution_count": null,
   "id": "98a3bd24",
   "metadata": {},
   "outputs": [],
   "source": []
  }
 ],
 "metadata": {
  "kernelspec": {
   "display_name": "Python 3 (ipykernel)",
   "language": "python",
   "name": "python3"
  },
  "language_info": {
   "codemirror_mode": {
    "name": "ipython",
    "version": 3
   },
   "file_extension": ".py",
   "mimetype": "text/x-python",
   "name": "python",
   "nbconvert_exporter": "python",
   "pygments_lexer": "ipython3",
   "version": "3.9.12"
  }
 },
 "nbformat": 4,
 "nbformat_minor": 5
}
