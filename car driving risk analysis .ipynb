{
 "cells": [
  {
   "cell_type": "code",
   "execution_count": 23,
   "id": "9d060017",
   "metadata": {},
   "outputs": [],
   "source": [
    "import numpy as np \n",
    "import matplotlib.pyplot as plt\n",
    "import pandas as pd \n"
   ]
  },
  {
   "cell_type": "code",
   "execution_count": 67,
   "id": "3a8ef87b",
   "metadata": {},
   "outputs": [],
   "source": [
    "df = pd.read_excel('car driving risk analysis.xlsx')"
   ]
  },
  {
   "cell_type": "code",
   "execution_count": 68,
   "id": "652ac83b",
   "metadata": {},
   "outputs": [
    {
     "data": {
      "text/plain": [
       "<bound method NDFrame.head of     speed  risk\n",
       "0     200    95\n",
       "1      90    20\n",
       "2     300    98\n",
       "3     110    60\n",
       "4     240    72\n",
       "5     115    10\n",
       "6      50     7\n",
       "7     230    85\n",
       "8     190    45\n",
       "9     260    91\n",
       "10    290    82\n",
       "11    185    59\n",
       "12    310    93\n",
       "13     95    18\n",
       "14     30    20>"
      ]
     },
     "execution_count": 68,
     "metadata": {},
     "output_type": "execute_result"
    }
   ],
   "source": [
    "df.head"
   ]
  },
  {
   "cell_type": "code",
   "execution_count": 69,
   "id": "11a240d4",
   "metadata": {},
   "outputs": [
    {
     "data": {
      "text/plain": [
       "speed    0\n",
       "risk     0\n",
       "dtype: int64"
      ]
     },
     "execution_count": 69,
     "metadata": {},
     "output_type": "execute_result"
    }
   ],
   "source": [
    "df.isnull().sum()"
   ]
  },
  {
   "cell_type": "code",
   "execution_count": 70,
   "id": "8d96f045",
   "metadata": {},
   "outputs": [],
   "source": [
    "x = df[['speed']]\n",
    "y = df['risk']"
   ]
  },
  {
   "cell_type": "code",
   "execution_count": 71,
   "id": "a0037f58",
   "metadata": {},
   "outputs": [
    {
     "data": {
      "text/plain": [
       "Text(0.5, 1.0, 'car driving risk analysis')"
      ]
     },
     "execution_count": 71,
     "metadata": {},
     "output_type": "execute_result"
    },
    {
     "data": {
      "image/png": "[encoded data removed]",
      "text/plain": [
       "<Figure size 432x288 with 1 Axes>"
      ]
     },
     "metadata": {
      "needs_background": "light"
     },
     "output_type": "display_data"
    }
   ],
   "source": [
    "plt.scatter(df['speed'], df['risk'], marker = '+', color = 'black')\n",
    "plt.xlabel('speed')\n",
    "plt.ylabel('risk')\n",
    "plt.title('car driving risk analysis')"
   ]
  },
  {
   "cell_type": "code",
   "execution_count": 72,
   "id": "8eb237be",
   "metadata": {},
   "outputs": [
    {
     "data": {
      "text/plain": [
       "(    speed\n",
       " 1      90\n",
       " 13     95\n",
       " 0     200\n",
       " 14     30\n",
       " 9     260\n",
       " 8     190\n",
       " 12    310\n",
       " 11    185\n",
       " 5     115,\n",
       " 1     20\n",
       " 13    18\n",
       " 0     95\n",
       " 14    20\n",
       " 9     91\n",
       " 8     45\n",
       " 12    93\n",
       " 11    59\n",
       " 5     10\n",
       " Name: risk, dtype: int64,\n",
       "     speed\n",
       " 3     110\n",
       " 7     230\n",
       " 6      50\n",
       " 2     300\n",
       " 10    290\n",
       " 4     240,\n",
       " 3     60\n",
       " 7     85\n",
       " 6      7\n",
       " 2     98\n",
       " 10    82\n",
       " 4     72\n",
       " Name: risk, dtype: int64)"
      ]
     },
     "execution_count": 72,
     "metadata": {},
     "output_type": "execute_result"
    }
   ],
   "source": [
    "from sklearn.model_selection import train_test_split\n",
    "xtrain, xtest, ytrain, ytest = train_test_split(x, y, test_size = 0.40, random_state = 1)\n",
    "xtrain, ytrain, xtest, ytest"
   ]
  },
  {
   "cell_type": "code",
   "execution_count": 73,
   "id": "af2805c6",
   "metadata": {},
   "outputs": [
    {
     "data": {
      "text/plain": [
       "array([31.19699222, 73.31503017, 10.13797324, 97.88388563, 94.37404914,\n",
       "       76.82486666])"
      ]
     },
     "execution_count": 73,
     "metadata": {},
     "output_type": "execute_result"
    }
   ],
   "source": [
    "from sklearn.linear_model import LinearRegression \n",
    "reg = LinearRegression()\n",
    "reg.fit(xtrain, ytrain)\n",
    "reg.predict(xtest)\n"
   ]
  },
  {
   "cell_type": "code",
   "execution_count": 65,
   "id": "2a01e20f",
   "metadata": {},
   "outputs": [
    {
     "data": {
      "text/plain": [
       "(array([0.35098365]), -7.411209233190526)"
      ]
     },
     "execution_count": 65,
     "metadata": {},
     "output_type": "execute_result"
    }
   ],
   "source": [
    "# y = mx+c\n",
    "reg.coef_, reg.intercept_"
   ]
  },
  {
   "cell_type": "code",
   "execution_count": 74,
   "id": "e2564276",
   "metadata": {},
   "outputs": [
    {
     "data": {
      "text/plain": [
       "Text(0.5, 1.0, 'car driving risk analysis')"
      ]
     },
     "execution_count": 74,
     "metadata": {},
     "output_type": "execute_result"
    },
    {
     "data": {
      "image/png": "[encoded data removed]",
      "text/plain": [
       "<Figure size 432x288 with 1 Axes>"
      ]
     },
     "metadata": {
      "needs_background": "light"
     },
     "output_type": "display_data"
    }
   ],
   "source": [
    "plt.scatter(df['speed'], df['risk'], marker = '+', color = 'black')\n",
    "plt.plot(df.speed, reg.predict(df[['speed']]))\n",
    "plt.xlabel('speed')\n",
    "plt.ylabel('risk')\n",
    "plt.title('car driving risk analysis')"
   ]
  },
  {
   "cell_type": "code",
   "execution_count": 79,
   "id": "3bb781bd",
   "metadata": {},
   "outputs": [
    {
     "name": "stderr",
     "output_type": "stream",
     "text": [
      "/Users/masudulislam/opt/anaconda3/lib/python3.9/site-packages/sklearn/base.py:450: UserWarning: X does not have valid feature names, but LinearRegression was fitted with feature names\n",
      "  warnings.warn(\n"
     ]
    },
    {
     "data": {
      "text/plain": [
       "array([1.01239836])"
      ]
     },
     "execution_count": 79,
     "metadata": {},
     "output_type": "execute_result"
    }
   ],
   "source": [
    "reg.predict([[24]])"
   ]
  },
  {
   "cell_type": "code",
   "execution_count": null,
   "id": "7028bf41",
   "metadata": {},
   "outputs": [],
   "source": []
  }
 ],
 "metadata": {
  "kernelspec": {
   "display_name": "Python 3 (ipykernel)",
   "language": "python",
   "name": "python3"
  },
  "language_info": {
   "codemirror_mode": {
    "name": "ipython",
    "version": 3
   },
   "file_extension": ".py",
   "mimetype": "text/x-python",
   "name": "python",
   "nbconvert_exporter": "python",
   "pygments_lexer": "ipython3",
   "version": "3.9.12"
  }
 },
 "nbformat": 4,
 "nbformat_minor": 5
}
